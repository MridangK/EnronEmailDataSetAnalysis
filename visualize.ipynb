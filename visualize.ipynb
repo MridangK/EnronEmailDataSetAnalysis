{
 "cells": [
  {
   "cell_type": "code",
   "execution_count": 1,
   "metadata": {},
   "outputs": [
    {
     "name": "stdout",
     "output_type": "stream",
     "text": [
      "    Username  Email Type                                     Email Contents\n",
      "0  platter-p  sent_items  Message-ID: <17733066.1075841426127.JavaMail.e...\n",
      "1  platter-p  sent_items  Message-ID: <25822934.1075841425860.JavaMail.e...\n",
      "2  platter-p  sent_items  Message-ID: <30354435.1075841425200.JavaMail.e...\n",
      "3  platter-p  sent_items  Message-ID: <31273406.1075841425676.JavaMail.e...\n",
      "4  platter-p  sent_items  Message-ID: <7649773.1075841425033.JavaMail.ev...\n"
     ]
    }
   ],
   "source": [
    "import pandas as pd\n",
    "\n",
    "# Read the CSV file into a DataFrame\n",
    "df = pd.read_csv('combinedemails.csv')\n",
    "\n",
    "# Visualize the first few lines of the DataFrame\n",
    "print(df.head())"
   ]
  },
  {
   "cell_type": "code",
   "execution_count": 4,
   "metadata": {},
   "outputs": [
    {
     "name": "stdout",
     "output_type": "stream",
     "text": [
      "    Username                                         Email Body\n",
      "0  platter-p                                                NaN\n",
      "1  platter-p  Somehow the commucication on these deals got f...\n",
      "2  platter-p  Count me in. I'll give 10 and enron will match...\n",
      "3  platter-p  FOR JULYEPMI SELLS EES 26 OFFPEAK AND 12 ONPEA...\n",
      "4  platter-p  -----Original Message----->> I thought this wa...\n"
     ]
    }
   ],
   "source": [
    "# Read the CSV file into a DataFrame\n",
    "df = pd.read_csv('cleancombinedemails.csv')\n",
    "\n",
    "# Visualize the first few lines of the DataFrame\n",
    "print(df.head())"
   ]
  },
  {
   "cell_type": "code",
   "execution_count": 5,
   "metadata": {},
   "outputs": [
    {
     "name": "stdout",
     "output_type": "stream",
     "text": [
      "DataFrame has null values in the 'Username' or 'Email Body' columns.\n"
     ]
    }
   ],
   "source": [
    "if df['Username'].isnull().values.any() or df['Email Body'].isnull().values.any():\n",
    "    print(\"DataFrame has null values in the 'Username' or 'Email Body' columns.\")\n",
    "else:\n",
    "    print(\"DataFrame does not have null values in the 'Username' or 'Email Body' columns.\")\n"
   ]
  },
  {
   "cell_type": "code",
   "execution_count": 6,
   "metadata": {},
   "outputs": [
    {
     "name": "stdout",
     "output_type": "stream",
     "text": [
      "DataFrame does not have null values in the 'Username' or 'Email Body' columns.\n"
     ]
    }
   ],
   "source": [
    "# Read the CSV file into a DataFrame\n",
    "df = pd.read_csv('finalcleaned.csv')\n",
    "if df['Username'].isnull().values.any() or df['Email Body'].isnull().values.any():\n",
    "    print(\"DataFrame has null values in the 'Username' or 'Email Body' columns.\")\n",
    "else:\n",
    "    print(\"DataFrame does not have null values in the 'Username' or 'Email Body' columns.\")\n"
   ]
  },
  {
   "cell_type": "code",
   "execution_count": 8,
   "metadata": {},
   "outputs": [
    {
     "data": {
      "text/plain": [
       "37527"
      ]
     },
     "execution_count": 8,
     "metadata": {},
     "output_type": "execute_result"
    }
   ],
   "source": [
    "len(df)"
   ]
  }
 ],
 "metadata": {
  "kernelspec": {
   "display_name": "Python 3",
   "language": "python",
   "name": "python3"
  },
  "language_info": {
   "codemirror_mode": {
    "name": "ipython",
    "version": 3
   },
   "file_extension": ".py",
   "mimetype": "text/x-python",
   "name": "python",
   "nbconvert_exporter": "python",
   "pygments_lexer": "ipython3",
   "version": "3.10.6"
  },
  "orig_nbformat": 4,
  "vscode": {
   "interpreter": {
    "hash": "916dbcbb3f70747c44a77c7bcd40155683ae19c65e1c03b4aa3499c5328201f1"
   }
  }
 },
 "nbformat": 4,
 "nbformat_minor": 2
}
